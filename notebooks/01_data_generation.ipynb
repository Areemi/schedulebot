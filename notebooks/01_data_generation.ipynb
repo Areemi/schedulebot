{
 "cells": [
  {
   "attachments": {},
   "cell_type": "markdown",
   "metadata": {},
   "source": [
    "# Database"
   ]
  },
  {
   "cell_type": "code",
   "execution_count": null,
   "metadata": {},
   "outputs": [],
   "source": [
    "import pandas as pd\n",
    "import numpy as np\n",
    "import os\n",
    "from utils.date_generation import get_date_string\n",
    "from sklearn.preprocessing import MultiLabelBinarizer\n",
    "\n",
    "%load_ext autoreload\n",
    "%autoreload 2"
   ]
  },
  {
   "attachments": {},
   "cell_type": "markdown",
   "metadata": {},
   "source": [
    "### Create a data"
   ]
  },
  {
   "cell_type": "code",
   "execution_count": null,
   "metadata": {},
   "outputs": [],
   "source": [
    "TEACHERS = ['Дикун И.А. professor','Козлова Л.П. professor','Королев В.В. professor',\n",
    "            'Кузнецов В.Е. professor','Якупов О.Э. assistant','Буканин В.А. professor',\n",
    "            'Демидович О.В. professor','Овдиенко Е.Н. assistant','Трусов А.А. assistant', 'Трусов А.О. professor',\n",
    "            'Леута А.А. professor','Мирошников А.Н. professor','Амбросовская Е.Б. professor',\n",
    "            'Лукичев А.Н. professor','Михайлов Д.П. assistant','Копычев М.М. professor', 'Игнатович Ю.В. assistant',\n",
    "            'Скороходов Д.А. professor','Вейнмейстер А.В. professor','Филатова Е.С. professor',\n",
    "            'Богданова С.М. assistant','Федоркова А.О. assistant']\n"
   ]
  },
  {
   "cell_type": "code",
   "execution_count": null,
   "metadata": {},
   "outputs": [],
   "source": [
    "SUBJECTS = ['Привод пр.','Привод лек.','Привод лаб.',\n",
    "            'ТССУ лек.','ТССУ пр.','ТССУ кр.','ТССУ лаб.',\n",
    "            'БЖД лек.','БЖД пр.','БЖД лаб.','АПМСЭЭС лек.',\n",
    "            'АПМСЭЭС лаб.','МССУ (ДВС6) лек.','МССУ (ДВС6) лаб.',\n",
    "            'МССУ (ДВС6) пр.','ТОУ лек.','ТОУ лаб.',\n",
    "            'СЭЭС лек.','СЭЭС пр.','СЭЭС лаб.',\n",
    "            'МПТвМиРТ лек.','МПТвМиРТ лаб.','МПТвМиРТ пр.',\n",
    "            'ФиРИСУК (ДВС8) лек.','ФиРИСУК (ДВС8) пр.',\n",
    "            'ФиРИСУК (ДВС8) лаб.','СУЭЭУК пр.','СУЭЭУК лаб.','СУЭЭУК лек.',\n",
    "            'ПЛКиПС лек.','ПЛКиПС лаб.','ПЛКиПС пр.',\n",
    "            'ТЕХНИЧЕСКОЕ ЗРЕНИЕ','ТЕХНИЧЕСКОЕ ЗРЕНИЕ лаб.','ТЕХНИЧЕСКОЕ ЗРЕНИЕ пр.']"
   ]
  },
  {
   "cell_type": "code",
   "execution_count": null,
   "metadata": {},
   "outputs": [],
   "source": [
    "#Добавить инфу про нагрузку каждого преподавателя. Т.е. посчитать сколько часов из расписания у каждого преподавателя, нужны цифры за 1 неделю, за 2 недели и за весь семестр\n",
    "TEACHERS = ['Дикун И.А. professor','Козлова Л.П. professor','Королев В.В. professor',\n",
    "            'Кузнецов В.Е. professor','Якупов О.Э. assistant','Буканин В.А. professor',\n",
    "            'Демидович О.В. professor','Овдиенко Е.Н. assistant','Трусов А.А. assistant', 'Трусов А.О. professor',\n",
    "            'Леута А.А. professor','Мирошников А.Н. professor','Амбросовская Е.Б. professor',\n",
    "            'Лукичев А.Н. professor','Михайлов Д.П. assistant','Копычев М.М. professor', 'Игнатович Ю.В. assistant',\n",
    "            'Скороходов Д.А. professor','Вейнмейстер А.В. professor','Филатова Е.С. professor',\n",
    "            'Богданова С.М. assistant','Федоркова А.О. assistant']\n",
    "#18 недель (вместе с зач. нед.), кол-во пар для каждого преподователя за неделю.\n",
    "TEACHERS_HOURS_ONE_WEEK = np.array([2, 5, 4,\n",
    "                                    5, 4, 2,\n",
    "                                    1, 1, 2, 2,\n",
    "                                    2, 2, 5,\n",
    "                                    2, 2, 1.5, 1.5,\n",
    "                                    2, 2, 1.5,\n",
    "                                    1.5, 2\n",
    "                                    ])\n",
    "#кол-во пар для каждого преподователя за две недели.\n",
    "TEACHERS_HOURS_TWO_WEEKS = TEACHERS_HOURS_ONE_WEEK[:]*2\n",
    "#кол-во пар для каждого преподователя за семестр.\n",
    "TEACHERS_HOURS_ALL = TEACHERS_HOURS_ONE_WEEK[:]*18\n",
    "print(len(TEACHERS))\n",
    "print(len(TEACHERS_HOURS_ONE_WEEK))\n"
   ]
  },
  {
   "cell_type": "code",
   "execution_count": null,
   "metadata": {},
   "outputs": [],
   "source": [
    "TEACHERS_HOURS = {\n",
    "    'TEACHERS' : ['Дикун И.А. professor','Козлова Л.П. professor','Королев В.В. professor',\n",
    "            'Кузнецов В.Е. professor','Якупов О.Э. assistant','Буканин В.А. professor',\n",
    "            'Демидович О.В. professor','Овдиенко Е.Н. assistant','Трусов А.А. assistant', 'Трусов А.О. professor',\n",
    "            'Леута А.А. professor','Мирошников А.Н. professor','Амбросовская Е.Б. professor',\n",
    "            'Лукичев А.Н. professor','Михайлов Д.П. assistant','Копычев М.М. professor', 'Игнатович Ю.В. assistant',\n",
    "            'Скороходов Д.А. professor','Вейнмейстер А.В. professor','Филатова Е.С. professor',\n",
    "            'Богданова С.М. assistant','Федоркова А.О. assistant'],\n",
    "    'TEACHERS_HOURS_ONE_WEEK' : np.array([2, 5, 4,\n",
    "                                    5, 4, 2,\n",
    "                                    1, 1, 2, 2,\n",
    "                                    2, 2, 5,\n",
    "                                    2, 2, 1.5, 1.5,\n",
    "                                    2, 2, 1.5,\n",
    "                                    1.5, 2\n",
    "                                    ]),\n",
    "    'TEACHERS_HOURS_TWO_WEEKS' : TEACHERS_HOURS_ONE_WEEK[:]*2,\n",
    "    'TEACHERS_HOURS_ALL' : TEACHERS_HOURS_ONE_WEEK[:]*18        \n",
    "}"
   ]
  },
  {
   "cell_type": "code",
   "execution_count": null,
   "metadata": {},
   "outputs": [],
   "source": [
    "#Добавить инфу про кол-во часов по каждому предмету. Нужны часы за 1 неделю, за 2 недели и за весь семестр\n",
    "\n",
    "#кол-во пар в неделю для 4 групп.\n",
    "SUBJECTS_HOURS_ONE_WEEK = np.array([4, 1, 4,\n",
    "                          1, 2, 2, 4,\n",
    "                          1, 4, 4, 1,\n",
    "                          1, 1, 0.5,\n",
    "                          0.5, 1, 4,\n",
    "                          1, 0.5, 0.5,\n",
    "                          1, 1, 1,\n",
    "                          1, 0.5,\n",
    "                          0.5, 0.5, 0.5, 1,\n",
    "                          1, 1.5, 1.5,\n",
    "                          1, 1, 1])\n",
    "#кол-во пар за две недели для 4 групп.\n",
    "SUBJECTS_HOURS_TWO_WEEKS = SUBJECTS_HOURS_ONE_WEEK[:36]*2\n",
    "#18 недель (вместе с зач. нед.), кол-во пар для 1 группы.\n",
    "SUBJECTS_HOURS_ALL = np.array([18, 18, 16,\n",
    "                  18, 9, 9, 18,\n",
    "                  18, 18, 18, 18,\n",
    "                  18, 18, 9, \n",
    "                  9, 18, 18,\n",
    "                  18, 9, 9,\n",
    "                  18, 9, 8,\n",
    "                  18, 9, \n",
    "                  9, 9, 9, 18,\n",
    "                  18, 9, 9,\n",
    "                  9, 9, 9])"
   ]
  },
  {
   "cell_type": "code",
   "execution_count": null,
   "metadata": {},
   "outputs": [],
   "source": [
    "SUBJECTS_HOURS = {\n",
    "    'SUBJECTS' : ['Привод пр.','Привод лек.','Привод лаб.',\n",
    "            'ТССУ лек.','ТССУ пр.','ТССУ кр.','ТССУ лаб.',\n",
    "            'БЖД лек.','БЖД пр.','БЖД лаб.','АПМСЭЭС лек.',\n",
    "            'АПМСЭЭС лаб.','МССУ (ДВС6) лек.','МССУ (ДВС6) лаб.',\n",
    "            'МССУ (ДВС6) пр.','ТОУ лек.','ТОУ лаб.',\n",
    "            'СЭЭС лек.','СЭЭС пр.','СЭЭС лаб.',\n",
    "            'МПТвМиРТ лек.','МПТвМиРТ лаб.','МПТвМиРТ пр.',\n",
    "            'ФиРИСУК (ДВС8) лек.','ФиРИСУК (ДВС8) пр.',\n",
    "            'ФиРИСУК (ДВС8) лаб.','СУЭЭУК пр.','СУЭЭУК лаб.','СУЭЭУК лек.',\n",
    "            'ПЛКиПС лек.','ПЛКиПС лаб.','ПЛКиПС пр.',\n",
    "            'ТЕХНИЧЕСКОЕ ЗРЕНИЕ','ТЕХНИЧЕСКОЕ ЗРЕНИЕ лаб.','ТЕХНИЧЕСКОЕ ЗРЕНИЕ пр.'],\n",
    "    'SUBJECTS_HOURS_ONE_WEEK' : np.array([4, 1, 4,\n",
    "                          1, 2, 2, 4,\n",
    "                          1, 4, 4, 1,\n",
    "                          1, 1, 0.5,\n",
    "                          0.5, 1, 4,\n",
    "                          1, 0.5, 0.5,\n",
    "                          1, 1, 1,\n",
    "                          1, 0.5,\n",
    "                          0.5, 0.5, 0.5, 1,\n",
    "                          1, 1.5, 1.5,\n",
    "                          1, 1, 1]),\n",
    "    'SUBJECTS_HOURS_TWO_WEEKS' : SUBJECTS_HOURS_ONE_WEEK[:36]*2,\n",
    "    'SUBJECTS_HOURS_ALL' : np.array([18, 18, 16,\n",
    "                  18, 9, 9, 18,\n",
    "                  18, 18, 18, 18,\n",
    "                  18, 18, 9, \n",
    "                  9, 18, 18,\n",
    "                  18, 9, 9,\n",
    "                  18, 9, 8,\n",
    "                  18, 9, \n",
    "                  9, 9, 9, 18,\n",
    "                  18, 9, 9,\n",
    "                  9, 9, 9])           \n",
    "}"
   ]
  },
  {
   "cell_type": "code",
   "execution_count": null,
   "metadata": {},
   "outputs": [],
   "source": [
    "GROUPS = ['9491,9492,9493,9494','9491,9492,9493,9494','9491,9492,9493,9494',\n",
    "            '9491,9492,9493,9494','9491,9492,9493,9494','9491,9492,9493,9494',\n",
    "            '9491,9492,9493,9494','9491,9492,9493,9494','9491,9492,9493,9494',\n",
    "            '9491,9492,9493,9494',\n",
    "            '9493','9493','9494','9494','9494',\n",
    "            '9491,9492,9493,9494','9491,9492,9493,9494',\n",
    "            '9493','9493','9493',\n",
    "            '9491,9492','9491,9492','9491,9492',\n",
    "            '9494','9494','9494',\n",
    "            '9494','9494','9494',\n",
    "            '9494','9494','9494',\n",
    "            '9491,9492','9491,9492','9491,9492'\n",
    "]"
   ]
  },
  {
   "cell_type": "code",
   "execution_count": null,
   "metadata": {},
   "outputs": [],
   "source": [
    "ROOM = ['4302','1229','D103','5230','2403','2404','8103-1',\n",
    "            '5143','5141','5135','5134','5221','8101','8112','8217','2322','8102',\n",
    "            '1158','8204','8203-2','8203-1']"
   ]
  },
  {
   "cell_type": "code",
   "execution_count": null,
   "metadata": {},
   "outputs": [],
   "source": [
    "SUBJECT_TYPE = ['пр.','лек.','лаб.','лек.','пр.','пр.','лаб.','лек.',\n",
    "                'пр.','лаб.','пр.','лек.','лаб.','лаб.','лаб.','лек.','лаб.','лек.','лаб.',\n",
    "                'пр.','лаб.']\n"
   ]
  },
  {
   "cell_type": "code",
   "execution_count": null,
   "metadata": {},
   "outputs": [],
   "source": [
    "ROOM_SUBJECT_TYPE = {\n",
    "    'room': ['4302','1229','D103','5230','2403','2404','8103-1',\n",
    "                '5143','5141','5135','5134','5221','8101','8112','8217','2322','8102',\n",
    "                '1158','8204','8203-2','8203-1'],\n",
    "    'subject_type':['пр.','лек.','лаб.','лек.','пр.','пр.','лаб.','лек.',\n",
    "                    'пр.','лаб.','пр.','лек.','лаб.','лаб.','лаб.','лек.','лаб.','лек.','лаб.',\n",
    "                    'пр.','лаб.']\n",
    "}\n"
   ]
  },
  {
   "cell_type": "code",
   "execution_count": null,
   "metadata": {},
   "outputs": [],
   "source": [
    "SUBJECT_GROUPS = {\n",
    "    'subjects': ['Привод пр.','Привод лек.','Привод лаб.',\n",
    "                'ТССУ лек.','ТССУ пр.','ТССУ кр.','ТССУ лаб.',\n",
    "                'БЖД лек.','БЖД пр.','БЖД лаб.','АПМСЭЭС лек.',\n",
    "                'АПМСЭЭС лаб.','МССУ (ДВС6) лек.','МССУ (ДВС6) лаб.',\n",
    "                'МССУ (ДВС6) пр.','ТОУ лек.','ТОУ лаб.',\n",
    "                'СЭЭС лек.','СЭЭС пр.','СЭЭС лаб.',\n",
    "                'МПТвМиРТ лек.','МПТвМиРТ лаб.','МПТвМиРТ пр.',\n",
    "                'ФиРИСУК (ДВС8) лек.','ФиРИСУК (ДВС8) пр.',\n",
    "                'ФиРИСУК (ДВС8) лаб.','СУЭЭУК пр.','СУЭЭУК лаб.','СУЭЭУК лек.',\n",
    "                'ПЛКиПС лек.','ПЛКиПС лаб.','ПЛКиПС пр.',\n",
    "                'ТЕХНИЧЕСКОЕ ЗРЕНИЕ','ТЕХНИЧЕСКОЕ ЗРЕНИЕ лаб.','ТЕХНИЧЕСКОЕ ЗРЕНИЕ пр.'],\n",
    "    'groups': [[9491,9492,9493,9494],[9491,9492,9493,9494],[9491,9492,9493,9494],\n",
    "                [9491,9492,9493,9494],[9491,9492,9493,9494],[9491,9492,9493,9494],[9491,9492,9493,9494],\n",
    "                [9491,9492,9493,9494],[9491,9492,9493,9494],[9491,9492,9493,9494],[9493],\n",
    "                [9493],[9494],[9494],\n",
    "                [9494],[9491,9492,9493,9494],[9491,9492,9493,9494],\n",
    "                [9493],[9493],[9493],\n",
    "                [9491,9492],[9491,9492],[9491,9492],\n",
    "                [9494],[9494],\n",
    "                [9494],[9494],[9494],[9494],\n",
    "                [9491,9492,9494],[9491,9492,9494],[9491,9492,9494],\n",
    "                [9491,9492],[9491,9492],[9491,9492]]\n",
    "}\n"
   ]
  },
  {
   "cell_type": "code",
   "execution_count": null,
   "metadata": {},
   "outputs": [],
   "source": [
    "STUDY_TIME = ['8:00-9:30','9:50-11:20','11:40-13:10','13:40-15:10','15:30-17:00','17:20-18:50']"
   ]
  },
  {
   "attachments": {},
   "cell_type": "markdown",
   "metadata": {},
   "source": [
    "### Unique values"
   ]
  },
  {
   "cell_type": "code",
   "execution_count": null,
   "metadata": {},
   "outputs": [],
   "source": [
    "UNQ_GROUPS = ['9491', '9492', '9493', '9494']\n",
    "UNQ_SUBJECT_TYPE = [\"пр.\", \"лек.\", \"лаб.\"]"
   ]
  },
  {
   "cell_type": "code",
   "execution_count": null,
   "metadata": {},
   "outputs": [],
   "source": [
    "LAB_ROOM = {\n",
    "    'lab': ['Привод','ТССУ','БЖД','АПМСЭЭС','МССУ (ДВС6)','ТОУ','СЭЭС','МПТвМиРТ','ФиРИСУК (ДВС8)','СУЭЭУК','ПЛКиПС','ТЕХНИЧЕСКОЕ ЗРЕНИЕ'],\n",
    "    'room':['D103','8103-1','5135','5221','8112','8217','8102','8204','8112','8102','8103-1','8203-1']\n",
    "}"
   ]
  },
  {
   "cell_type": "code",
   "execution_count": null,
   "metadata": {},
   "outputs": [],
   "source": [
    "feature_arry = pd.DataFrame(SUBJECT_GROUPS)"
   ]
  },
  {
   "attachments": {},
   "cell_type": "markdown",
   "metadata": {},
   "source": [
    "### One-Hot-Encoding"
   ]
  },
  {
   "cell_type": "code",
   "execution_count": null,
   "metadata": {},
   "outputs": [],
   "source": [
    "mlb = MultiLabelBinarizer(sparse_output=True)\n",
    "dsubjects_groups = feature_arry.join(pd.DataFrame.sparse.from_spmatrix(mlb.fit_transform(feature_arry.pop('groups')), index = feature_arry.index, columns=mlb.classes_))"
   ]
  },
  {
   "attachments": {},
   "cell_type": "markdown",
   "metadata": {},
   "source": [
    "### Create a dataframe"
   ]
  },
  {
   "cell_type": "code",
   "execution_count": null,
   "metadata": {},
   "outputs": [],
   "source": [
    "droom_subject_type = pd.DataFrame(ROOM_SUBJECT_TYPE)"
   ]
  },
  {
   "cell_type": "code",
   "execution_count": null,
   "metadata": {},
   "outputs": [],
   "source": [
    "dteachers = pd.DataFrame(data=TEACHERS,columns=['teachers'])"
   ]
  },
  {
   "cell_type": "code",
   "execution_count": null,
   "metadata": {},
   "outputs": [],
   "source": [
    "dlab_room = pd.DataFrame(data=LAB_ROOM)"
   ]
  },
  {
   "cell_type": "code",
   "execution_count": null,
   "metadata": {},
   "outputs": [],
   "source": [
    "dsubjects_hours = pd.DataFrame(SUBJECTS_HOURS)"
   ]
  },
  {
   "cell_type": "code",
   "execution_count": null,
   "metadata": {},
   "outputs": [],
   "source": [
    "dteachers_hours = pd.DataFrame(TEACHERS_HOURS)"
   ]
  },
  {
   "attachments": {},
   "cell_type": "markdown",
   "metadata": {},
   "source": [
    "### Create a path"
   ]
  },
  {
   "cell_type": "code",
   "execution_count": null,
   "metadata": {},
   "outputs": [],
   "source": [
    "#CURRENT_DPATH = os.path.abspath(\"01_data_generation.ipynb\")\n",
    "#print(CURRENT_DPATH)\n",
    "CURRENT_DPATH = os.path.dirname(os.path.abspath(\"01_data_generation.ipynb\"))\n",
    "print(CURRENT_DPATH)\n",
    "PROJECT_ROOT = os.path.abspath(os.path.join(CURRENT_DPATH, os.pardir))\n",
    "print(PROJECT_ROOT)\n",
    "DATA_DPATH = os.path.join(PROJECT_ROOT, \"data\")\n",
    "print(DATA_DPATH)\n",
    "save_dpath = os.path.join(DATA_DPATH, get_date_string())\n",
    "print(save_dpath)"
   ]
  },
  {
   "attachments": {},
   "cell_type": "markdown",
   "metadata": {},
   "source": [
    "### Write to disk"
   ]
  },
  {
   "cell_type": "code",
   "execution_count": null,
   "metadata": {},
   "outputs": [],
   "source": [
    "save_dpath = os.path.join(DATA_DPATH, get_date_string())\n",
    "os.makedirs(save_dpath, exist_ok=True) \n",
    "\n",
    "dsubjects_groups.to_csv(os.path.join(save_dpath, \"Subjects+Groups.csv\"))\n",
    "dsubjects_hours.to_csv(os.path.join(save_dpath, \"Subjects+Hours.csv\"))\n",
    "dteachers_hours.to_csv(os.path.join(save_dpath, \"Teachers+Hours.csv\"))\n",
    "droom_subject_type.to_csv(os.path.join(save_dpath, \"Room+Subject_Type.csv\"))\n",
    "dlab_room.to_csv(os.path.join(save_dpath, \"Lab+Room.csv\"))\n"
   ]
  }
 ],
 "metadata": {
  "kernelspec": {
   "display_name": "Python 3.8.10 ('.venv': poetry)",
   "language": "python",
   "name": "python3"
  },
  "language_info": {
   "codemirror_mode": {
    "name": "ipython",
    "version": 3
   },
   "file_extension": ".py",
   "mimetype": "text/x-python",
   "name": "python",
   "nbconvert_exporter": "python",
   "pygments_lexer": "ipython3",
   "version": "3.8.10"
  },
  "vscode": {
   "interpreter": {
    "hash": "9ef2a2255f1757d81d8623a586b9225cdbf78da12956b73ed643aab6e86aecd1"
   }
  }
 },
 "nbformat": 4,
 "nbformat_minor": 2
}
