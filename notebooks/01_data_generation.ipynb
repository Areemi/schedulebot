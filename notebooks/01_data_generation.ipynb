{
 "cells": [
  {
   "attachments": {},
   "cell_type": "markdown",
   "metadata": {},
   "source": [
    "# Database"
   ]
  },
  {
   "cell_type": "code",
   "execution_count": null,
   "metadata": {},
   "outputs": [],
   "source": [
    "import pandas as pd\n",
    "import numpy as np\n",
    "import os\n",
    "from schedulebot.utils.date_generation import get_date_string\n",
    "from sklearn.preprocessing import MultiLabelBinarizer\n",
    "\n",
    "%load_ext autoreload\n",
    "%autoreload 2"
   ]
  },
  {
   "attachments": {},
   "cell_type": "markdown",
   "metadata": {},
   "source": [
    "### Create a data"
   ]
  },
  {
   "cell_type": "code",
   "execution_count": null,
   "metadata": {},
   "outputs": [],
   "source": [
    "TEACHERS = ['Дикун Ирина Александровна professor', 'Козлова Людмила Петровна professor',\n",
    "            'Королев Виталий Вячеславович professor', 'Кузнецов Владимир Евгеньевич professor',\n",
    "            'Якупов Олег Эльдусович assistant', 'Буканин Владимир Анатольевич professor',\n",
    "            'Демидович Ольга Васильевна professor', 'Овдиенко Евгений Николаевич assistant',\n",
    "            'Трусов Александр Александрович assistant', 'Трусов Александр Олегович professor',\n",
    "            'Леута Алексей Александрович professor', 'Мирошников Александр Николаевич professor',\n",
    "            'Амбросовская Елена Борисовна professor', 'Лукичев Андрей Николаевич professor',\n",
    "            'Михайлов Данил Павлович assistant', 'Копычев Михаил Михайлович professor',\n",
    "            'Игнатович Юлия Васильевна assistant', 'Скороходов Дмитрий Алексеевич professor',\n",
    "            'Вейнмейстер Андрей Викторович professor', 'Филатова Екатерина Сергеевна professor',\n",
    "            'Богданова Светлана Михайловна assistant', 'Федоркова Анастасия Олеговна assistant',\n",
    "            'Гречухин Михаил Николаевич professor']\n"
   ]
  },
  {
   "cell_type": "code",
   "execution_count": null,
   "metadata": {},
   "outputs": [],
   "source": [
    "SUBJECTS = ['Привод пр.','Привод лек.','Привод лаб.',\n",
    "            'ТССУ лек.','ТССУ пр.','ТССУ кр.','ТССУ лаб.',\n",
    "            'БЖД лек.','БЖД пр.','БЖД лаб.','АПМСЭЭС лек.',\n",
    "            'АПМСЭЭС лаб.','МССУ (ДВС6) лек.','МССУ (ДВС6) лаб.',\n",
    "            'МССУ (ДВС6) пр.','ТОУ лек.','ТОУ лаб.',\n",
    "            'СЭЭС лек.','СЭЭС пр.','СЭЭС лаб.',\n",
    "            'МПТвМиРТ лек.','МПТвМиРТ лаб.','МПТвМиРТ пр.',\n",
    "            'ФиРИСУК (ДВС8) лек.','ФиРИСУК (ДВС8) пр.',\n",
    "            'ФиРИСУК (ДВС8) лаб.','СУЭЭУК пр.','СУЭЭУК лаб.','СУЭЭУК лек.',\n",
    "            'ПЛКиПС лек.','ПЛКиПС лаб.','ПЛКиПС пр.',\n",
    "            'ТЕХНИЧЕСКОЕ ЗРЕНИЕ лек.','ТЕХНИЧЕСКОЕ ЗРЕНИЕ лаб.','ТЕХНИЧЕСКОЕ ЗРЕНИЕ пр.']\n"
   ]
  },
  {
   "cell_type": "code",
   "execution_count": null,
   "metadata": {},
   "outputs": [],
   "source": [
    "#Добавить инфу про нагрузку каждого преподавателя. Т.е. посчитать сколько часов из расписания у каждого преподавателя, нужны цифры за 1 неделю, за 2 недели и за весь семестр\n",
    "TEACHERS\n",
    "#18 недель (вместе с зач. нед.), кол-во пар для каждого преподователя за неделю.\n",
    "TEACHERS_LESSONS_ONE_WEEK = np.array([2, 5, 4,\n",
    "                                    5, 4, 2,\n",
    "                                    1, 1, 2, 2,\n",
    "                                    2, 2, 5,\n",
    "                                    2, 2, 1.5, 1.5,\n",
    "                                    2, 2, 1.5,\n",
    "                                    1.5, 2, 0.5\n",
    "                                    ])\n",
    "#кол-во пар для каждого преподователя за две недели.\n",
    "TEACHERS_LESSONS_TWO_WEEKS = TEACHERS_LESSONS_ONE_WEEK[:]*2\n",
    "#кол-во пар для каждого преподователя за семестр.\n",
    "TEACHERS_LESSONS_ALL = TEACHERS_LESSONS_ONE_WEEK[:]*18\n",
    "#TEACHERS_LESSONS_ALL = TEACHERS_LESSONS_ALL.tolist()\n",
    "\"\"\"TEACHERS_LESSONS_ALL[1] = 18\n",
    "TEACHERS_LESSONS_ALL[2] = 16*4\"\"\"\n",
    "print(sum(TEACHERS_LESSONS_ALL))\n",
    "# в приводе лаб. ведут занятия 2 преподавателя!!!"
   ]
  },
  {
   "cell_type": "code",
   "execution_count": null,
   "metadata": {},
   "outputs": [],
   "source": [
    "TEACHERS_LESSONS = {\n",
    "    'TEACHERS' : TEACHERS,\n",
    "    'TEACHERS_LESSONS_ONE_WEEK' : TEACHERS_LESSONS_ONE_WEEK,\n",
    "    'TEACHERS_LESSONS_TWO_WEEKS' : TEACHERS_LESSONS_TWO_WEEKS,\n",
    "    'TEACHERS_LESSONS_ALL' : TEACHERS_LESSONS_ALL       \n",
    "}\n",
    "print(TEACHERS_LESSONS)\n",
    "print(len(TEACHERS_LESSONS_ONE_WEEK))"
   ]
  },
  {
   "cell_type": "code",
   "execution_count": null,
   "metadata": {},
   "outputs": [],
   "source": [
    "#Добавить инфу про кол-во часов по каждому предмету. Нужны часы за 1 неделю, за 2 недели и за весь семестр\n",
    "\n",
    "#кол-во пар в неделю для 4 групп.\n",
    "SUBJECTS_LESSONS_ONE_WEEK = np.array([2, 1, 4,\n",
    "                          1, 2, 2, 4,\n",
    "                          1, 4, 4, 1,\n",
    "                          1, 1, 0.5,\n",
    "                          0.5, 1, 4,\n",
    "                          1, 0.5, 0.5,\n",
    "                          1, 1, 1,\n",
    "                          1, 0.5,\n",
    "                          0.5, 0.5, 0.5, 1,\n",
    "                          1, 1.5, 1.5,\n",
    "                          1, 1, 1])\n",
    "\n",
    "#кол-во пар за две недели для 4 групп.\n",
    "SUBJECTS_LESSONS_TWO_WEEKS = SUBJECTS_LESSONS_ONE_WEEK[:36]*2\n",
    "#18 недель (вместе с зач. нед.), кол-во пар для 4 группы.\n",
    "SUBJECTS_LESSONS_ALL = SUBJECTS_LESSONS_ONE_WEEK*18\n",
    "SUBJECTS_LESSONS_ALL = SUBJECTS_LESSONS_ALL.tolist()\n",
    "SUBJECTS_LESSONS_ALL[2] = 16.0*4\n",
    "np.array(SUBJECTS_LESSONS_ALL)\n",
    "\n",
    "print(sum(SUBJECTS_LESSONS_ALL))\n",
    "\n",
    "\n",
    "\n",
    "#883.0\n"
   ]
  },
  {
   "cell_type": "code",
   "execution_count": null,
   "metadata": {},
   "outputs": [],
   "source": [
    "SUBJECTS_LESSONS = {\n",
    "    'SUBJECTS' : SUBJECTS,\n",
    "    'SUBJECTS_LESSONS_ONE_WEEK' : SUBJECTS_LESSONS_ONE_WEEK,\n",
    "    'SUBJECTS_LESSONS_TWO_WEEKS' : SUBJECTS_LESSONS_TWO_WEEKS,\n",
    "    'SUBJECTS_LESSONS_ALL' : SUBJECTS_LESSONS_ALL\n",
    "}\n"
   ]
  },
  {
   "cell_type": "code",
   "execution_count": null,
   "metadata": {},
   "outputs": [],
   "source": [
    "GROUPS = ['9491,9492,9493,9494','9491,9492,9493,9494','9491,9492,9493,9494',\n",
    "            '9491,9492,9493,9494','9491,9492,9493,9494','9491,9492,9493,9494',\n",
    "            '9491,9492,9493,9494','9491,9492,9493,9494','9491,9492,9493,9494',\n",
    "            '9491,9492,9493,9494',\n",
    "            '9493','9493','9494','9494','9494',\n",
    "            '9491,9492,9493,9494','9491,9492,9493,9494',\n",
    "            '9493','9493','9493',\n",
    "            '9491,9492','9491,9492','9491,9492',\n",
    "            '9494','9494','9494',\n",
    "            '9494','9494','9494',\n",
    "            '9494','9494','9494',\n",
    "            '9491,9492','9491,9492','9491,9492'\n",
    "]"
   ]
  },
  {
   "cell_type": "code",
   "execution_count": null,
   "metadata": {},
   "outputs": [],
   "source": [
    "ROOM = ['4302','1229','D103',\n",
    "        '5230','2403','2404',\n",
    "        '8103-1','5143','5141',\n",
    "        '5135','5134','5221',\n",
    "        '8101','8112','8217',\n",
    "        '2322','8102','1158',\n",
    "        '8204','8203-2','8203-1']"
   ]
  },
  {
   "cell_type": "code",
   "execution_count": null,
   "metadata": {},
   "outputs": [],
   "source": [
    "SUBJECT_TYPE = ['пр.','лек.','лаб.',\n",
    "        'лек.','пр.','пр.',\n",
    "        'лаб.','лек.','пр.',\n",
    "        'лаб.','пр.','лек.',\n",
    "        'лаб.','mixed','лаб.',\n",
    "        'лек.','mixed','лек.',\n",
    "        'mixed','пр.','mixed']\n"
   ]
  },
  {
   "cell_type": "code",
   "execution_count": null,
   "metadata": {},
   "outputs": [],
   "source": [
    "ROOM_SUBJECT_TYPE = {\n",
    "    'room': ['4302','1229','D103',\n",
    "        '5230','2403','2404',\n",
    "        '8103-1','5143','5141',\n",
    "        '5135','5134','5221',\n",
    "        '8101','8112','8217',\n",
    "        '2322','8102','1158',\n",
    "        '8204','8203-2','8203-1'],\n",
    "    'subject_type':['пр.','лек.','лаб.',\n",
    "        'лек.','пр.','пр.',\n",
    "        'лаб.','лек.','пр.',\n",
    "        'лаб.','пр.','лек.',\n",
    "        'лаб.','mixed','лаб.',\n",
    "        'лек.','mixed','лек.',\n",
    "        'mixed','пр.','mixed']\n",
    "}\n"
   ]
  },
  {
   "cell_type": "code",
   "execution_count": null,
   "metadata": {},
   "outputs": [],
   "source": [
    "SUBJECT_GROUPS = {\n",
    "    'subjects': ['Привод пр.','Привод лек.','Привод лаб.',\n",
    "                'ТССУ лек.','ТССУ пр.','ТССУ кр.','ТССУ лаб.',\n",
    "                'БЖД лек.','БЖД пр.','БЖД лаб.','АПМСЭЭС лек.',\n",
    "                'АПМСЭЭС лаб.','МССУ (ДВС6) лек.','МССУ (ДВС6) лаб.',\n",
    "                'МССУ (ДВС6) пр.','ТОУ лек.','ТОУ лаб.',\n",
    "                'СЭЭС лек.','СЭЭС пр.','СЭЭС лаб.',\n",
    "                'МПТвМиРТ лек.','МПТвМиРТ лаб.','МПТвМиРТ пр.',\n",
    "                'ФиРИСУК (ДВС8) лек.','ФиРИСУК (ДВС8) пр.',\n",
    "                'ФиРИСУК (ДВС8) лаб.','СУЭЭУК пр.','СУЭЭУК лаб.','СУЭЭУК лек.',\n",
    "                'ПЛКиПС лек.','ПЛКиПС лаб.','ПЛКиПС пр.',\n",
    "                'ТЕХНИЧЕСКОЕ ЗРЕНИЕ лек.','ТЕХНИЧЕСКОЕ ЗРЕНИЕ лаб.','ТЕХНИЧЕСКОЕ ЗРЕНИЕ пр.'],\n",
    "    'groups': [[9491,9492,9493,9494],[9491,9492,9493,9494],[9491,9492,9493,9494],\n",
    "                [9491,9492,9493,9494],[9491,9492,9493,9494],[9491,9492,9493,9494],[9491,9492,9493,9494],\n",
    "                [9491,9492,9493,9494],[9491,9492,9493,9494],[9491,9492,9493,9494],[9493],\n",
    "                [9493],[9494],[9494],\n",
    "                [9494],[9491,9492,9493,9494],[9491,9492,9493,9494],\n",
    "                [9493],[9493],[9493],\n",
    "                [9491,9492],[9491,9492],[9491,9492],\n",
    "                [9494],[9494],\n",
    "                [9494],[9494],[9494],[9494],\n",
    "                [9491,9492,9494],[9491,9492,9494],[9491,9492,9494],\n",
    "                [9491,9492],[9491,9492],[9491,9492]]\n",
    "}\n",
    "\n"
   ]
  },
  {
   "cell_type": "code",
   "execution_count": null,
   "metadata": {},
   "outputs": [],
   "source": [
    "SUBJECTS_TEACHERS = {\n",
    "    'subjects': ['Привод пр.','Привод лек.','Привод лаб.',\n",
    "            'ТССУ лек.','ТССУ кр.','ТССУ пр.','ТССУ лаб.',\n",
    "            'БЖД лек.','БЖД пр.','БЖД лаб.',\n",
    "            'АПМСЭЭС лек.','АПМСЭЭС лаб.',\n",
    "            'МССУ (ДВС6) лек.','МССУ (ДВС6) лаб.','МССУ (ДВС6) пр.',\n",
    "            'ТОУ лек.','ТОУ лаб.',\n",
    "            'СЭЭС лек.','СУЭЭУК лек.',\n",
    "            'СЭЭС пр.','СЭЭС лаб.','СУЭЭУК пр.','СУЭЭУК лаб.',\n",
    "            'МПТвМиРТ лек.','МПТвМиРТ пр.', 'МПТвМиРТ лаб.',\n",
    "            'ФиРИСУК (ДВС8) лек.','ФиРИСУК (ДВС8) пр.','ФиРИСУК (ДВС8) лаб.',\n",
    "            'ПЛКиПС лек.','ПЛКиПС лаб.','ПЛКиПС пр.',\n",
    "            'ТЕХНИЧЕСКОЕ ЗРЕНИЕ лек.','ТЕХНИЧЕСКОЕ ЗРЕНИЕ лаб.','ТЕХНИЧЕСКОЕ ЗРЕНИЕ пр.'],\n",
    "\n",
    "    'teachers': [['Дикун И.А. professor'],['Козлова Л.П. professor'],['Козлова Л.П. professor', 'Королев В.В. professor'],\n",
    "            ['Кузнецов В.Е. professor'],['Кузнецов В.Е. professor'],['Кузнецов В.Е. professor'],['Якупов О.Э. assistant'],\n",
    "            ['Буканин В.А. professor'],['Буканин В.А. professor','Демидович О.В. professor','Трусов А.О. professor'],['Овдиенко Е.Н. assistant','Трусов А.А. assistant','Маловский А.И. assistant'],\n",
    "            ['Леута А.А. professor'],['Леута А.А. professor'],\n",
    "            ['Мирошников А.Н. professor'],['Мирошников А.Н. professor'],['Мирошников А.Н. professor'],\n",
    "            ['Амбросовская Е.Б. professor'],['Амбросовская Е.Б. professor'],\n",
    "            ['Лукичев А.Н. professor'],['Лукичев А.Н. professor'],\n",
    "            ['Михайлов Д.П. assistant'],['Михайлов Д.П. assistant'],['Михайлов Д.П. assistant'],['Михайлов Д.П. assistant'],\n",
    "            ['Копычев М.М. professor'],['Копычев М.М. professor', 'Игнатович Ю.В. assistant'],['Игнатович Ю.В. assistant'],\n",
    "            ['Скороходов Д.А. professor'],['Скороходов Д.А. professor'],['Скороходов Д.А. professor'],\n",
    "            ['Вейнмейстер А.В. professor'],['Вейнмейстер А.В. professor','Филатова Е.С. professor'],['Филатова Е.С. professor','Богданова С.М. assistant'],\n",
    "            ['Федоркова А.О. assistant'],['Федоркова А.О. assistant'],['Федоркова А.О. assistant']]\n",
    "}\n",
    "df = pd.DataFrame(data=SUBJECTS_TEACHERS)\n",
    "df\n"
   ]
  },
  {
   "cell_type": "code",
   "execution_count": null,
   "metadata": {},
   "outputs": [],
   "source": [
    "SUBJECTS_UNIQUE = 12\n",
    "ALL_WEEKS = 18\n",
    "NUMBER_OF_GROUPS = 4\n",
    "NUMBER_OF_TEACHERS = 22\n",
    "NUMBER_OF_ROOMS = 21"
   ]
  },
  {
   "cell_type": "code",
   "execution_count": null,
   "metadata": {},
   "outputs": [],
   "source": [
    "STUDY_TIME = ['8:00-9:30','9:50-11:20','11:40-13:10','13:40-15:10','15:30-17:00','17:20-18:50']"
   ]
  },
  {
   "attachments": {},
   "cell_type": "markdown",
   "metadata": {},
   "source": [
    "### Unique values"
   ]
  },
  {
   "cell_type": "code",
   "execution_count": null,
   "metadata": {},
   "outputs": [],
   "source": [
    "UNQ_GROUPS = ['9491', '9492', '9493', '9494']\n",
    "UNQ_SUBJECT_TYPE = [\"пр.\", \"лек.\", \"лаб.\"]"
   ]
  },
  {
   "cell_type": "code",
   "execution_count": null,
   "metadata": {},
   "outputs": [],
   "source": [
    "LAB_ROOM = {\n",
    "    'lab': ['Привод','ТССУ','БЖД','АПМСЭЭС','МССУ (ДВС6)','ТОУ','СЭЭС','МПТвМиРТ','ФиРИСУК (ДВС8)','СУЭЭУК','ПЛКиПС','ТЕХНИЧЕСКОЕ ЗРЕНИЕ'],\n",
    "    'room':['D103','8103-1','5135','5221','8112','8217','8102','8204','8112','8102','8103-1','8203-1']\n",
    "}"
   ]
  },
  {
   "cell_type": "code",
   "execution_count": null,
   "metadata": {},
   "outputs": [],
   "source": [
    "feature_arry = pd.DataFrame(SUBJECT_GROUPS)\n"
   ]
  },
  {
   "cell_type": "code",
   "execution_count": null,
   "metadata": {},
   "outputs": [],
   "source": [
    "feature_arry2 = pd.DataFrame(SUBJECTS_TEACHERS)\n",
    "print(feature_arry2)"
   ]
  },
  {
   "attachments": {},
   "cell_type": "markdown",
   "metadata": {},
   "source": [
    "### One-Hot-Encoding"
   ]
  },
  {
   "cell_type": "code",
   "execution_count": null,
   "metadata": {},
   "outputs": [],
   "source": [
    "mlb = MultiLabelBinarizer(sparse_output=True)\n",
    "dsubjects_groups = feature_arry.join(pd.DataFrame.sparse.from_spmatrix(mlb.fit_transform(feature_arry.pop('groups')), index = feature_arry.index, columns=mlb.classes_))\n",
    "print(dsubjects_groups)"
   ]
  },
  {
   "cell_type": "code",
   "execution_count": null,
   "metadata": {},
   "outputs": [],
   "source": [
    "dteachers_subjects = feature_arry2.join(pd.DataFrame.sparse.from_spmatrix(mlb.fit_transform(feature_arry2.pop('teachers')), index = feature_arry2.index, columns=mlb.classes_))\n",
    "print(dteachers_subjects)"
   ]
  },
  {
   "attachments": {},
   "cell_type": "markdown",
   "metadata": {},
   "source": [
    "### Create a dataframe"
   ]
  },
  {
   "cell_type": "code",
   "execution_count": null,
   "metadata": {},
   "outputs": [],
   "source": [
    "droom_subject_type = pd.DataFrame(ROOM_SUBJECT_TYPE)"
   ]
  },
  {
   "cell_type": "code",
   "execution_count": null,
   "metadata": {},
   "outputs": [],
   "source": [
    "dteachers = pd.DataFrame(data=TEACHERS,columns=['teachers'])"
   ]
  },
  {
   "cell_type": "code",
   "execution_count": null,
   "metadata": {},
   "outputs": [],
   "source": [
    "dlab_room = pd.DataFrame(data=LAB_ROOM)"
   ]
  },
  {
   "cell_type": "code",
   "execution_count": null,
   "metadata": {},
   "outputs": [],
   "source": [
    "dsubjects_lessons = pd.DataFrame(SUBJECTS_LESSONS)"
   ]
  },
  {
   "cell_type": "code",
   "execution_count": null,
   "metadata": {},
   "outputs": [],
   "source": [
    "dteachers_lessons = pd.DataFrame(TEACHERS_LESSONS)"
   ]
  },
  {
   "cell_type": "code",
   "execution_count": null,
   "metadata": {},
   "outputs": [],
   "source": []
  },
  {
   "attachments": {},
   "cell_type": "markdown",
   "metadata": {},
   "source": [
    "### Create a path"
   ]
  },
  {
   "cell_type": "code",
   "execution_count": null,
   "metadata": {},
   "outputs": [],
   "source": [
    "#CURRENT_DPATH = os.path.abspath(\"01_data_generation.ipynb\")\n",
    "#print(CURRENT_DPATH)\n",
    "CURRENT_DPATH = os.path.dirname(os.path.abspath(\"01_data_generation.ipynb\"))\n",
    "print(CURRENT_DPATH)\n",
    "PROJECT_ROOT = os.path.abspath(os.path.join(CURRENT_DPATH, os.pardir))\n",
    "print(PROJECT_ROOT)\n",
    "DATA_DPATH = os.path.join(PROJECT_ROOT, \"data\")\n",
    "print(DATA_DPATH)\n",
    "save_dpath = os.path.join(DATA_DPATH, get_date_string())\n",
    "print(save_dpath)"
   ]
  },
  {
   "attachments": {},
   "cell_type": "markdown",
   "metadata": {},
   "source": [
    "### Write to disk"
   ]
  },
  {
   "cell_type": "code",
   "execution_count": null,
   "metadata": {},
   "outputs": [],
   "source": [
    "save_dpath = os.path.join(DATA_DPATH, get_date_string())\n",
    "os.makedirs(save_dpath, exist_ok=True) \n",
    "\n",
    "dsubjects_groups.to_csv(os.path.join(save_dpath, \"Subjects+Groups.csv\"))\n",
    "dsubjects_lessons.to_csv(os.path.join(save_dpath, \"Subjects+Lessons.csv\"))\n",
    "dteachers_lessons.to_csv(os.path.join(save_dpath, \"Teachers+Lessons.csv\"))\n",
    "droom_subject_type.to_csv(os.path.join(save_dpath, \"Room+Subject_Type.csv\"))\n",
    "dlab_room.to_csv(os.path.join(save_dpath, \"Lab+Room.csv\"))\n",
    "dteachers_subjects.to_csv(os.path.join(save_dpath, \"Subjects+Teachers.csv\"))"
   ]
  }
 ],
 "metadata": {
  "kernelspec": {
   "display_name": "Python 3.8.10 ('.venv': poetry)",
   "language": "python",
   "name": "python3"
  },
  "language_info": {
   "codemirror_mode": {
    "name": "ipython",
    "version": 3
   },
   "file_extension": ".py",
   "mimetype": "text/x-python",
   "name": "python",
   "nbconvert_exporter": "python",
   "pygments_lexer": "ipython3",
   "version": "3.8.10"
  },
  "vscode": {
   "interpreter": {
    "hash": "9ef2a2255f1757d81d8623a586b9225cdbf78da12956b73ed643aab6e86aecd1"
   }
  }
 },
 "nbformat": 4,
 "nbformat_minor": 2
}
