{
 "cells": [
  {
   "cell_type": "code",
   "execution_count": null,
   "metadata": {},
   "outputs": [],
   "source": [
    "import pandas as pd\n",
    "import numpy as np\n",
    "import csv\n",
    "import matplotlib as mpl\n",
    "import os\n",
    "from utils.date_generation import get_date_string\n",
    "from sklearn.preprocessing import MultiLabelBinarizer\n",
    "from matplotlib import pyplot as plt\n",
    "\n",
    "%load_ext autoreload\n",
    "%autoreload 2\n",
    "\n",
    "\n",
    "def reversed4(variable):\n",
    "    res=''.join(reversed(variable))\n",
    "    return res\n",
    "\n",
    "def cm_to_inch(value):\n",
    "    return value/2.54"
   ]
  },
  {
   "cell_type": "code",
   "execution_count": null,
   "metadata": {},
   "outputs": [],
   "source": [
    "CURRENT_DPATH = os.path.dirname(os.path.abspath(\"01_data_generation.ipynb\"))\n",
    "PROJECT_ROOT = os.path.abspath(os.path.join(CURRENT_DPATH, os.pardir))\n",
    "DATA_DPATH = os.path.join(PROJECT_ROOT, \"data\")\n",
    "NEW_DATA = os.listdir(DATA_DPATH)[-1]\n",
    "save_dpath = os.path.join(DATA_DPATH, NEW_DATA)"
   ]
  },
  {
   "attachments": {},
   "cell_type": "markdown",
   "metadata": {},
   "source": [
    "### Количество уникальных дисциплин\n",
    "### Общее количество часов для всех групп (1 пара = 1,5 часа)\n",
    "### Число недель обучения (проверить, что для каждой группы одно и то же число)\n",
    "### Число пар в семестре для всех групп\n",
    "### Количество групп\n",
    "### Количество преподавателей\n",
    "### Количество аудиторий"
   ]
  },
  {
   "cell_type": "code",
   "execution_count": null,
   "metadata": {},
   "outputs": [],
   "source": [
    "SUBJECTS_UNIQUE = 12 #Количество уникальных дисциплин\n",
    "ALL_HOURS_FOR_ALL_GROUPS = 1770 #Общее количество часов для всех групп\n",
    "ALL_WEEKS = 18 #Число недель обучения (проверить, что для каждой группы одно и то же число)\n",
    "ALL_LESSONS_FOR_ALL_GROUPS = 1180 #Число пар в семестре для всех групп (295+295+259+331= 1180)\n",
    "NUMBER_OF_GROUPS = 4 #Количество групп\n",
    "NUMBER_OF_TEACHERS = 22 #Количество преподавателей\n",
    "NUMBER_OF_ROOMS = 21 #Количество аудиторий\n",
    "SUBJECTS = ['Привод пр.','Привод лек.','Привод лаб.',\n",
    "            'ТССУ лек.','ТССУ пр.','ТССУ кр.','ТССУ лаб.',\n",
    "            'БЖД лек.','БЖД пр.','БЖД лаб.','АПМСЭЭС лек.',\n",
    "            'АПМСЭЭС лаб.','МССУ (ДВС6) лек.','МССУ (ДВС6) лаб.',\n",
    "            'МССУ (ДВС6) пр.','ТОУ лек.','ТОУ лаб.',\n",
    "            'СЭЭС лек.','СЭЭС пр.','СЭЭС лаб.',\n",
    "            'МПТвМиРТ лек.','МПТвМиРТ лаб.','МПТвМиРТ пр.',\n",
    "            'ФиРИСУК (ДВС8) лек.','ФиРИСУК (ДВС8) пр.',\n",
    "            'ФиРИСУК (ДВС8) лаб.','СУЭЭУК пр.','СУЭЭУК лаб.','СУЭЭУК лек.',\n",
    "            'ПЛКиПС лек.','ПЛКиПС лаб.','ПЛКиПС пр.',\n",
    "            'ТЕХНИЧЕСКОЕ ЗРЕНИЕ','ТЕХНИЧЕСКОЕ ЗРЕНИЕ лаб.','ТЕХНИЧЕСКОЕ ЗРЕНИЕ пр.']\n",
    "SUBJECTS_HOURS_ALL = np.array([18, 18, 16,\n",
    "                  18, 9, 9, 18,\n",
    "                  18, 18, 18, 18,\n",
    "                  18, 18, 9, \n",
    "                  9, 18, 18,\n",
    "                  18, 9, 9,\n",
    "                  18, 9, 8,\n",
    "                  18, 9, \n",
    "                  9, 9, 9, 18,\n",
    "                  18, 9, 9,\n",
    "                  9, 9, 9]) #Число пар в семестре (можно получить из кол-ва часов)\n",
    "print(np.sum(SUBJECTS_HOURS_ALL))\n",
    "laboratory = []\n",
    "practise = []\n",
    "lecture = []\n",
    "cash = ''\n",
    "i = 0\n",
    "while i < len(SUBJECTS):\n",
    "    j = -1\n",
    "    while SUBJECTS[i][j] !=' ':\n",
    "        cash += SUBJECTS[i][j]\n",
    "        j -= 1\n",
    "    cash = reversed4(cash)\n",
    "    if cash == 'пр.':\n",
    "        practise.append(SUBJECTS[i])\n",
    "    elif cash == 'лек.':\n",
    "        lecture.append(SUBJECTS[i])\n",
    "    elif cash == 'лаб.':\n",
    "        laboratory.append(SUBJECTS[i])\n",
    "    cash = ''\n",
    "    i += 1\n",
    "print(laboratory)\n",
    "print(practise)\n",
    "print(lecture)\n",
    "print(np.sum(SUBJECTS_HOURS_ALL))"
   ]
  },
  {
   "attachments": {},
   "cell_type": "markdown",
   "metadata": {},
   "source": [
    "### Распределение лекций, практик, лабораторных (график гистограмма)"
   ]
  },
  {
   "cell_type": "code",
   "execution_count": null,
   "metadata": {},
   "outputs": [],
   "source": [
    "Names = ['лабораторные', 'практики', 'лекции']\n",
    "Type = [len(laboratory), len(practise), len(lecture)]\n",
    "\n",
    "plt.bar(Names, Type)\n",
    "plt.xlabel('Тип')\n",
    "plt.ylabel('Количество пар')\n",
    "plt.grid()\n",
    "plt.show()"
   ]
  },
  {
   "attachments": {},
   "cell_type": "markdown",
   "metadata": {},
   "source": [
    "### Распределение часов по лекциям, практикам и лабоработорным"
   ]
  },
  {
   "cell_type": "code",
   "execution_count": null,
   "metadata": {},
   "outputs": [],
   "source": [
    "Hours_Type = [18, 15, 16.5]\n",
    "\n",
    "plt.bar(Names, Hours_Type)\n",
    "plt.xlabel('Тип')\n",
    "plt.ylabel('Количество часов')\n",
    "plt.grid()\n",
    "plt.show() "
   ]
  },
  {
   "attachments": {},
   "cell_type": "markdown",
   "metadata": {},
   "source": [
    "### Распределение кол-ва пар на каждую группу"
   ]
  },
  {
   "cell_type": "code",
   "execution_count": null,
   "metadata": {},
   "outputs": [],
   "source": [
    "GROUPS = ['9491', '9492', '9493', '9494']\n",
    "LESSONS_OF_GROUPS = [19, 19, 15.5, 17.5]\n",
    "\n",
    "plt.bar(GROUPS, LESSONS_OF_GROUPS)\n",
    "plt.xlabel('Группа')\n",
    "plt.ylabel('Количество пар')\n",
    "plt.grid()\n",
    "plt.show() "
   ]
  },
  {
   "attachments": {},
   "cell_type": "markdown",
   "metadata": {},
   "source": [
    "### Распределение часов на каждую группу"
   ]
  },
  {
   "cell_type": "code",
   "execution_count": null,
   "metadata": {},
   "outputs": [],
   "source": [
    "HOURS_OF_GROUPS = [28.5, 28.5, 23.25, 26.25] # 1 пара = 1,5 часа\n",
    "\n",
    "plt.bar(GROUPS, HOURS_OF_GROUPS)\n",
    "plt.xlabel('Группа')\n",
    "plt.ylabel('Количество часов')\n",
    "plt.grid()\n",
    "plt.show() "
   ]
  },
  {
   "attachments": {},
   "cell_type": "markdown",
   "metadata": {},
   "source": [
    "### Распределение должностей преподавателей (график)"
   ]
  },
  {
   "cell_type": "code",
   "execution_count": null,
   "metadata": {},
   "outputs": [],
   "source": [
    "TEACHERS = ['Дикун И.А. professor','Козлова Л.П. professor','Королев В.В. professor',\n",
    "            'Кузнецов В.Е. professor','Якупов О.Э. assistant','Буканин В.А. professor',\n",
    "            'Демидович О.В. professor','Овдиенко Е.Н. assistant','Трусов А.А. assistant', 'Трусов А.О. professor',\n",
    "            'Леута А.А. professor','Мирошников А.Н. professor','Амбросовская Е.Б. professor',\n",
    "            'Лукичев А.Н. professor','Михайлов Д.П. assistant','Копычев М.М. professor', 'Игнатович Ю.В. assistant',\n",
    "            'Скороходов Д.А. professor','Вейнмейстер А.В. professor','Филатова Е.С. professor',\n",
    "            'Богданова С.М. assistant','Федоркова А.О. assistant']\n",
    "\n",
    "professors = []\n",
    "assistant = []\n",
    "cash = ''\n",
    "i = 0\n",
    "while i < len(TEACHERS):\n",
    "    j = -1\n",
    "    while TEACHERS[i][j] !=' ':\n",
    "        cash += TEACHERS[i][j]\n",
    "        j -= 1\n",
    "    cash = reversed4(cash)\n",
    "    if cash == 'professor':\n",
    "        professors.append(TEACHERS[i])\n",
    "    elif cash == 'assistant':\n",
    "        assistant.append(TEACHERS[i])\n",
    "    cash = ''\n",
    "    i += 1\n",
    "\n",
    "x1 = ['Профессоры', 'ассистенты' ]\n",
    "x2 = [len(professors), len(assistant)]\n",
    "plt.bar(x1, x2)\n",
    "plt.xlabel('Преподаватели')\n",
    "plt.ylabel('Количество преподавателей')\n",
    "plt.grid()\n",
    "plt.show() \n",
    "    "
   ]
  },
  {
   "attachments": {},
   "cell_type": "markdown",
   "metadata": {},
   "source": [
    "### Количество подходящих преподавателей (по предметам) на каждую группу (график)"
   ]
  },
  {
   "cell_type": "code",
   "execution_count": null,
   "metadata": {},
   "outputs": [],
   "source": [
    "\n",
    "df1 = pd.read_csv(os.path.join(save_dpath, 'Subjects_Teachers.csv'))\n",
    "df2 = pd.read_csv(os.path.join(save_dpath, 'Subjects+Groups.csv'))\n"
   ]
  },
  {
   "cell_type": "code",
   "execution_count": null,
   "metadata": {},
   "outputs": [],
   "source": [
    "subjects = df2['subjects']\n",
    " \n",
    "plt.figure(figsize =(20, 5))\n",
    "plt.xticks(rotation=90)\n",
    "plt.bar(subjects, df2['9491'])\n",
    "plt.ylabel('9491')\n",
    "plt.show()\n",
    "\n",
    "plt.figure(figsize =(20, 5))\n",
    "plt.xticks(rotation=90)\n",
    "plt.ylabel('9492')\n",
    "plt.bar(subjects, df2['9492'])\n",
    "plt.show()\n",
    "\n",
    "plt.figure(figsize =(20, 5))\n",
    "plt.xticks(rotation=90)\n",
    "plt.ylabel('9493')\n",
    "plt.bar(subjects, df2['9493'])\n",
    "plt.show()\n",
    "\n",
    "plt.figure(figsize =(20, 5))\n",
    "plt.xticks(rotation=90)\n",
    "plt.ylabel('9494')\n",
    "plt.bar(subjects, df2['9494'])\n",
    "plt.show()\n",
    "    "
   ]
  },
  {
   "attachments": {},
   "cell_type": "markdown",
   "metadata": {},
   "source": [
    "### Распределение аудиторий (лекционные, практики, лабораторные)"
   ]
  },
  {
   "cell_type": "code",
   "execution_count": null,
   "metadata": {},
   "outputs": [],
   "source": [
    "df3 = pd.read_csv(os.path.join(save_dpath, 'Room+Subject_Type.csv'))\n",
    "x = np.array(df3)\n",
    "i = 0\n",
    "pr = 0\n",
    "lec = 0\n",
    "lab = 0\n",
    "mixed = 0\n",
    "print(x)\n",
    "while i < len(x):\n",
    "    if x[i][2] == 'пр.':\n",
    "        pr += 1\n",
    "    if x[i][2] =='лек.':\n",
    "        lec += 1\n",
    "    if x[i][2] =='лаб.':\n",
    "        lab += 1\n",
    "    if x[i][2] =='mixed':\n",
    "        mixed += 1\n",
    "    i += 1\n",
    "print(pr)\n",
    "print(lec)\n",
    "print(lab)\n",
    "print(mixed)\n",
    "data = [pr, lec, lab, mixed]\n",
    "print(data)\n",
    "print(['пр.', 'лек.', 'лаб.', 'mixed'])\n",
    "plt.figure(figsize =(10, 5))\n",
    "plt.ylabel('количество занятий')\n",
    "plt.xlabel('тип занятий')\n",
    "plt.bar(['пр.', 'лек.', 'лаб.', 'mixed'], data)\n",
    "plt.show()"
   ]
  }
 ],
 "metadata": {
  "kernelspec": {
   "display_name": ".venv",
   "language": "python",
   "name": "python3"
  },
  "language_info": {
   "codemirror_mode": {
    "name": "ipython",
    "version": 3
   },
   "file_extension": ".py",
   "mimetype": "text/x-python",
   "name": "python",
   "nbconvert_exporter": "python",
   "pygments_lexer": "ipython3",
   "version": "3.8.10"
  },
  "vscode": {
   "interpreter": {
    "hash": "9ef2a2255f1757d81d8623a586b9225cdbf78da12956b73ed643aab6e86aecd1"
   }
  }
 },
 "nbformat": 4,
 "nbformat_minor": 2
}
