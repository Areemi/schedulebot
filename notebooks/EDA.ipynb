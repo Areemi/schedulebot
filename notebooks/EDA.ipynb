{
 "cells": [
  {
   "cell_type": "code",
   "execution_count": null,
   "metadata": {},
   "outputs": [],
   "source": [
    "import pandas as pd\n",
    "import numpy as np\n",
    "import os\n",
    "from matplotlib import pyplot as plt\n",
    "\n",
    "%load_ext autoreload\n",
    "%autoreload 2\n",
    "\n",
    "\n",
    "def reversed4(variable):\n",
    "    res=''.join(reversed(variable))\n",
    "    return res\n",
    "\n",
    "def parse_subject_name(x):\n",
    "    subject_types = [\"лек.\", \"лаб.\", \"пр.\", \"кр.\"]\n",
    "\n",
    "    subject_name = x\n",
    "    if any(subject_type in x for subject_type in subject_types):\n",
    "        parts = x.split(\" \")[:-1]\n",
    "        subject_name = \" \".join(parts)\n",
    "    return subject_name"
   ]
  },
  {
   "cell_type": "code",
   "execution_count": null,
   "metadata": {},
   "outputs": [],
   "source": [
    "CURRENT_DPATH = os.path.dirname(os.path.abspath(\"__file__\"))\n",
    "PROJECT_ROOT = os.path.abspath(os.path.join(CURRENT_DPATH, os.pardir))\n",
    "DATA_DPATH = os.path.join(PROJECT_ROOT, \"data\")\n",
    "data_version = os.listdir(DATA_DPATH)[-1]\n",
    "src_dpath = os.path.join(DATA_DPATH, data_version)"
   ]
  },
  {
   "attachments": {},
   "cell_type": "markdown",
   "metadata": {},
   "source": [
    "### Разделение занятий по типам"
   ]
  },
  {
   "cell_type": "code",
   "execution_count": null,
   "metadata": {},
   "outputs": [],
   "source": [
    "fipath = os.path.join(src_dpath, \"Subjects+Lessons.csv\")\n",
    "sub_lessons_df = pd.read_csv(fipath, index_col=0)\n",
    "\n",
    "SUBJECTS = sub_lessons_df['SUBJECTS']\n",
    "\n",
    "\n",
    "laboratory = []\n",
    "practise = []\n",
    "lecture = []\n",
    "kurs = []\n",
    "cash = ''\n",
    "i = 0\n",
    "while i < len(SUBJECTS):\n",
    "    j = -1\n",
    "    while SUBJECTS[i][j] !=' ':\n",
    "        cash += SUBJECTS[i][j]\n",
    "        j -= 1\n",
    "    cash = reversed4(cash)\n",
    "    if cash == 'пр.':\n",
    "        practise.append(SUBJECTS[i])\n",
    "    elif cash == 'лек.':\n",
    "        lecture.append(SUBJECTS[i])\n",
    "    elif cash == 'лаб.':\n",
    "        laboratory.append(SUBJECTS[i])\n",
    "    else:\n",
    "        kurs.append(SUBJECTS[i])\n",
    "    cash = ''\n",
    "    i += 1\n",
    "print(len(laboratory))\n",
    "print(len(practise))\n",
    "print(len(lecture))\n",
    "print(len(kurs))\n",
    "\n"
   ]
  },
  {
   "attachments": {},
   "cell_type": "markdown",
   "metadata": {},
   "source": [
    "### Число недель обучения"
   ]
  },
  {
   "cell_type": "code",
   "execution_count": null,
   "metadata": {},
   "outputs": [],
   "source": [
    "ALL_WEEKS = 18"
   ]
  },
  {
   "attachments": {},
   "cell_type": "markdown",
   "metadata": {},
   "source": [
    "### Число пар в семестре для всех групп"
   ]
  },
  {
   "cell_type": "code",
   "execution_count": null,
   "metadata": {},
   "outputs": [],
   "source": [
    "ALL_LESSONS_FOR_ALL_GROUPS = 1180 #295+295+259+331 = 1180,на одной лекции сидит 4 группы, считается как 4 "
   ]
  },
  {
   "attachments": {},
   "cell_type": "markdown",
   "metadata": {},
   "source": [
    "### Количество групп"
   ]
  },
  {
   "cell_type": "code",
   "execution_count": null,
   "metadata": {},
   "outputs": [],
   "source": [
    "filepath = os.path.join(src_dpath, \"Subjects+Groups.csv\")\n",
    "prepare_df = pd.read_csv(filepath, index_col=0)\n",
    "NUMBER_OF_GROUPS = len(prepare_df.columns.values.tolist())-1\n",
    "NUMBER_OF_GROUPS"
   ]
  },
  {
   "attachments": {},
   "cell_type": "markdown",
   "metadata": {},
   "source": [
    "### Количество преподавателей"
   ]
  },
  {
   "cell_type": "code",
   "execution_count": null,
   "metadata": {},
   "outputs": [],
   "source": [
    "filepath = os.path.join(src_dpath, \"Subjects+Teachers.csv\")\n",
    "prepare_df = pd.read_csv(filepath, index_col=0)\n",
    "NUMBER_OF_TEACHERS = len(prepare_df.columns.values.tolist())-1\n",
    "NUMBER_OF_TEACHERS\n"
   ]
  },
  {
   "attachments": {},
   "cell_type": "markdown",
   "metadata": {},
   "source": [
    "### Количество аудиторий"
   ]
  },
  {
   "cell_type": "code",
   "execution_count": null,
   "metadata": {},
   "outputs": [],
   "source": [
    "filepath = os.path.join(src_dpath, \"Room+Subject_type.csv\")\n",
    "prepare_df = pd.read_csv(filepath, index_col=0)\n",
    "NUMBER_OF_ROOMS = len(prepare_df['room'].tolist())\n",
    "NUMBER_OF_ROOMS"
   ]
  },
  {
   "attachments": {},
   "cell_type": "markdown",
   "metadata": {},
   "source": [
    "### Количество уникальных дисциплин"
   ]
  },
  {
   "cell_type": "code",
   "execution_count": null,
   "metadata": {},
   "outputs": [],
   "source": [
    "fname = \"Subjects+Groups.csv\"\n",
    "print(src_dpath)\n",
    "fpath = os.path.join(src_dpath, fname)\n",
    "print(fpath)\n",
    "sub_group_df = pd.read_csv(fpath, index_col=0)\n",
    "print(f\"Количество уникальных дисциплин (с учётом типа занятия): {sub_group_df['subjects'].nunique()}\")\n",
    "\n",
    "subject_names_parsed = sub_group_df[\"subjects\"].apply(parse_subject_name)\n",
    "print(f\"Количество уникальных дисциплин (без учёта типа занятия): {subject_names_parsed.nunique()}\")\n",
    "SUBJECTS_UNIQUE = subject_names_parsed.nunique()"
   ]
  },
  {
   "attachments": {},
   "cell_type": "markdown",
   "metadata": {},
   "source": [
    "### Общее количество часов для всех групп"
   ]
  },
  {
   "cell_type": "code",
   "execution_count": null,
   "metadata": {},
   "outputs": [],
   "source": [
    "fpath = os.path.join(src_dpath, \"Subjects+Lessons.csv\")\n",
    "sub_lessons_df = pd.read_csv(fpath, index_col=0)\n",
    "print(sub_lessons_df.iloc[2, 0])\n",
    "total_load_h = 0\n",
    "i = 0\n",
    "while i < len(sub_lessons_df['SUBJECTS_LESSONS_ALL'].tolist()):\n",
    "   total_load_h += sub_lessons_df.iloc[i, 3]\n",
    "   i += 1\n",
    "print(total_load_h)\n",
    "print(total_load_h*1.5)\n",
    "#963.0 занятия у преподавателей, 892 занятия у групп"
   ]
  },
  {
   "attachments": {},
   "cell_type": "markdown",
   "metadata": {},
   "source": [
    "### Распределение лекций, практик, лабораторных (график гистограмма)"
   ]
  },
  {
   "cell_type": "code",
   "execution_count": null,
   "metadata": {},
   "outputs": [],
   "source": [
    "Names = ['лабораторные', 'практики', 'лекции', 'курсовые']\n",
    "Type = [len(laboratory), len(practise), len(lecture), len(kurs)]\n",
    "\n",
    "plt.bar(Names, Type)\n",
    "plt.xlabel('Тип')\n",
    "plt.ylabel('Количество пар')\n",
    "plt.grid()\n",
    "plt.show()"
   ]
  },
  {
   "attachments": {},
   "cell_type": "markdown",
   "metadata": {},
   "source": [
    "### Распределение часов по лекциям, практикам и лабоработорным"
   ]
  },
  {
   "cell_type": "code",
   "execution_count": null,
   "metadata": {},
   "outputs": [],
   "source": [
    "Hours_Type = [len(laboratory)*1.5, len(practise)*1.5, len(lecture)*1.5]\n",
    "\n",
    "plt.bar(Names, Hours_Type)\n",
    "plt.xlabel('Тип')\n",
    "plt.ylabel('Количество часов')\n",
    "plt.grid()\n",
    "plt.show() "
   ]
  },
  {
   "attachments": {},
   "cell_type": "markdown",
   "metadata": {},
   "source": [
    "### Распределение кол-ва пар на каждую группу за одну неделю"
   ]
  },
  {
   "cell_type": "code",
   "execution_count": null,
   "metadata": {},
   "outputs": [],
   "source": [
    "GROUPS = ['9491', '9492', '9493', '9494']\n",
    "LESSONS_OF_GROUPS = [19, 19, 15.5, 17.5] \n",
    "\n",
    "plt.bar(GROUPS, LESSONS_OF_GROUPS)\n",
    "plt.xlabel('Группа')\n",
    "plt.ylabel('Количество пар')\n",
    "plt.grid()\n",
    "plt.show() "
   ]
  },
  {
   "attachments": {},
   "cell_type": "markdown",
   "metadata": {},
   "source": [
    "### Распределение часов на каждую группу"
   ]
  },
  {
   "cell_type": "code",
   "execution_count": null,
   "metadata": {},
   "outputs": [],
   "source": [
    "HOURS_OF_GROUPS = np.array(LESSONS_OF_GROUPS)*1.5 # 1 пара = 1,5 часа\n",
    "print(HOURS_OF_GROUPS)\n",
    "plt.bar(GROUPS, HOURS_OF_GROUPS)\n",
    "plt.xlabel('Группа')\n",
    "plt.ylabel('Количество часов')\n",
    "plt.grid()\n",
    "plt.show() "
   ]
  },
  {
   "attachments": {},
   "cell_type": "markdown",
   "metadata": {},
   "source": [
    "### Распределение должностей преподавателей (график)"
   ]
  },
  {
   "cell_type": "code",
   "execution_count": null,
   "metadata": {},
   "outputs": [],
   "source": [
    "fpath = os.path.join(src_dpath, \"Teachers+Lessons.csv\")\n",
    "TEACHERS = pd.read_csv(fpath, index_col=0)\n",
    "\n",
    "professors = []\n",
    "assistant = []\n",
    "cash = ''\n",
    "i = 0\n",
    "while i < len(TEACHERS):\n",
    "    j = -1\n",
    "    while TEACHERS.iloc[i, 0][j] !=' ':\n",
    "        cash += TEACHERS.iloc[i, 0][j]\n",
    "        j -= 1\n",
    "    cash = reversed4(cash)\n",
    "    if cash == 'professor':\n",
    "        professors.append(TEACHERS.iloc[i, 0])\n",
    "    elif cash == 'assistant':\n",
    "        assistant.append(TEACHERS.iloc[i, 0])\n",
    "    cash = ''\n",
    "    i += 1\n",
    "print(professors)\n",
    "print(assistant)\n",
    "x1 = ['Профессоры', 'ассистенты' ]\n",
    "x2 = [len(professors), len(assistant)]\n",
    "plt.bar(x1, x2)\n",
    "plt.xlabel('Преподаватели')\n",
    "plt.ylabel('Количество преподавателей')\n",
    "plt.grid()\n",
    "plt.show() "
   ]
  },
  {
   "attachments": {},
   "cell_type": "markdown",
   "metadata": {},
   "source": [
    "### Количество подходящих преподавателей (по предметам) на каждую группу (график)"
   ]
  },
  {
   "cell_type": "code",
   "execution_count": null,
   "metadata": {},
   "outputs": [],
   "source": [
    "\n",
    "df1 = pd.read_csv(os.path.join(src_dpath, 'Subjects+Teachers.csv'))\n",
    "df2 = pd.read_csv(os.path.join(src_dpath, 'Subjects+Groups.csv'))\n"
   ]
  },
  {
   "cell_type": "code",
   "execution_count": null,
   "metadata": {},
   "outputs": [],
   "source": [
    "subjects = df2['subjects']\n",
    " \n",
    "plt.figure(figsize =(20, 5))\n",
    "plt.xticks(rotation=90)\n",
    "plt.bar(subjects, df2['9491'])\n",
    "plt.ylabel('9491')\n",
    "plt.show()\n",
    "\n",
    "plt.figure(figsize =(20, 5))\n",
    "plt.xticks(rotation=90)\n",
    "plt.ylabel('9492')\n",
    "plt.bar(subjects, df2['9492'])\n",
    "plt.show()\n",
    "\n",
    "plt.figure(figsize =(20, 5))\n",
    "plt.xticks(rotation=90)\n",
    "plt.ylabel('9493')\n",
    "plt.bar(subjects, df2['9493'])\n",
    "plt.show()\n",
    "\n",
    "plt.figure(figsize =(20, 5))\n",
    "plt.xticks(rotation=90)\n",
    "plt.ylabel('9494')\n",
    "plt.bar(subjects, df2['9494'])\n",
    "plt.show()\n",
    "    "
   ]
  },
  {
   "attachments": {},
   "cell_type": "markdown",
   "metadata": {},
   "source": [
    "### Распределение аудиторий (лекционные, практики, лабораторные)"
   ]
  },
  {
   "cell_type": "code",
   "execution_count": null,
   "metadata": {},
   "outputs": [],
   "source": [
    "df3 = pd.read_csv(os.path.join(src_dpath, 'Room+Subject_Type.csv'))\n",
    "x = np.array(df3)\n",
    "i = 0\n",
    "pr = 0\n",
    "lec = 0\n",
    "lab = 0\n",
    "mixed = 0\n",
    "print(x)\n",
    "while i < len(x):\n",
    "    if x[i][2] == 'пр.':\n",
    "        pr += 1\n",
    "    if x[i][2] =='лек.':\n",
    "        lec += 1\n",
    "    if x[i][2] =='лаб.':\n",
    "        lab += 1\n",
    "    if x[i][2] =='mixed':\n",
    "        mixed += 1\n",
    "    i += 1\n",
    "print(pr)\n",
    "print(lec)\n",
    "print(lab)\n",
    "print(mixed)\n",
    "data = [pr, lec, lab, mixed]\n",
    "print(data)\n",
    "print(['пр.', 'лек.', 'лаб.', 'mixed'])\n",
    "plt.figure(figsize =(10, 5))\n",
    "plt.ylabel('количество занятий')\n",
    "plt.xlabel('тип занятий')\n",
    "plt.bar(['пр.', 'лек.', 'лаб.', 'mixed'], data)\n",
    "plt.show()"
   ]
  }
 ],
 "metadata": {
  "kernelspec": {
   "display_name": ".venv",
   "language": "python",
   "name": "python3"
  },
  "language_info": {
   "codemirror_mode": {
    "name": "ipython",
    "version": 3
   },
   "file_extension": ".py",
   "mimetype": "text/x-python",
   "name": "python",
   "nbconvert_exporter": "python",
   "pygments_lexer": "ipython3",
   "version": "3.8.10"
  },
  "vscode": {
   "interpreter": {
    "hash": "9ef2a2255f1757d81d8623a586b9225cdbf78da12956b73ed643aab6e86aecd1"
   }
  }
 },
 "nbformat": 4,
 "nbformat_minor": 2
}
