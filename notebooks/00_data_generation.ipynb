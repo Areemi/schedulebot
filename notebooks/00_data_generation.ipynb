{
 "cells": [
  {
   "attachments": {},
   "cell_type": "markdown",
   "metadata": {},
   "source": [
    "# Data Files Generation"
   ]
  },
  {
   "cell_type": "code",
   "execution_count": null,
   "metadata": {},
   "outputs": [],
   "source": [
    "%load_ext autoreload\n",
    "%autoreload 2\n",
    "\n",
    "from pathlib import Path \n",
    "\n",
    "import pandas as pd\n",
    "from sklearn.preprocessing import MultiLabelBinarizer\n",
    "\n",
    "from schedulebot.utils.date_generation import get_date_string\n",
    "\n",
    "\n",
    "CURRENT_DPATH = Path(\"__file__\").parent.resolve()\n",
    "PROJECT_DPATH = CURRENT_DPATH.parent\n",
    "\n",
    "DATA_DPATH = PROJECT_DPATH / \"data\" \n",
    "DATA_DPATH.mkdir(parents=True, exist_ok=True)\n",
    "\n",
    "CACHE_DPATH = DATA_DPATH / get_date_string() \n",
    "CACHE_DPATH.mkdir(parents=True, exist_ok=True)"
   ]
  },
  {
   "attachments": {},
   "cell_type": "markdown",
   "metadata": {},
   "source": [
    "## Teachers Info"
   ]
  },
  {
   "cell_type": "code",
   "execution_count": null,
   "metadata": {},
   "outputs": [],
   "source": [
    "# TODO: add department name to each teacher \n",
    "TEACHERS = [\n",
    "  [\"Дикун\", \"Ирина\", \"Александровна\", \"professor\", 2.0],\n",
    "  [\"Козлова\", \"Людмила\", \"Петровна\", \"professor\", 5.0],\n",
    "  [\"Королев\", \"Виталий\", \"Вячеславович\", \"professor\", 4.0], \n",
    "  [\"Кузнецов\", \"Владимир\", \"Евгеньевич\",  \"professor\", 5.0],\n",
    "  [\"Якупов\", \"Олег\", \"Эльдусович\", \"assistant\", 4.0],\n",
    "  [\"Буканин\", \"Владимир\", \"Анатольевич\", \"professor\", 2.0],\n",
    "  [\"Демидович\", \"Ольга\", \"Васильевна\", \"professor\", 1.0], \n",
    "  [\"Овдиенко\", \"Евгений\", \"Николаевич\", \"assistant\", 1.0],\n",
    "  [\"Трусов\", \"Александр\", \"Александрович\", \"assistant\", 2.0],\n",
    "  [\"Трусов\", \"Александр\", \"Олегович\", \"professor\", 2.0],\n",
    "  [\"Леута\", \"Алексей\", \"Александрович\", \"professor\", 2.0],\n",
    "  [\"Мирошников\", \"Александр\", \"Николаевич\", \"professor\", 2.0],\n",
    "  [\"Амбросовская\", \"Елена\", \"Борисовна\", \"professor\", 5.0], \n",
    "  [\"Лукичев\", \"Андрей\", \"Николаевич\", \"professor\", 2.0],\n",
    "  [\"Михайлов\", \"Данил\", \"Павлович\", \"assistant\", 2.0],\n",
    "  [\"Копычев\", \"Михаил\", \"Михайлович\", \"professor\", 1.5],\n",
    "  [\"Игнатович\", \"Юлия\", \"Васильевна\", \"assistant\", 1.5],\n",
    "  [\"Скороходов\", \"Дмитрий\", \"Алексеевич\", \"professor\", 2.0],\n",
    "  [\"Вейнмейстер\", \"Андрей\", \"Викторович\", \"professor\", 2.0], \n",
    "  [\"Филатова\", \"Екатерина\", \"Сергеевна\", \"professor\", 1.5],\n",
    "  [\"Богданова\", \"Светлана\", \"Михайловна\", \"assistant\", 1.5],\n",
    "  [\"Федоркова\", \"Анастасия\", \"Олеговна\", \"assistant\", 2.0],\n",
    "  [\"Гречухин\", \"Михаил\", \"Николаевич\", \"professor\", 0.5],\n",
    "  [\"Маловский\", \"Андрей\", \"Иванович\", \"assistant\", 1]\n",
    "]\n",
    "\n",
    "teachers_df = pd.DataFrame(\n",
    "    TEACHERS, columns=[\"last_name\", \"first_name\", \"middle_name\", \"qualification\", \"weekly_hours\"]\n",
    ")\n",
    "teachers_df.head()"
   ]
  },
  {
   "cell_type": "code",
   "execution_count": null,
   "metadata": {},
   "outputs": [],
   "source": [
    "_SAVE = True \n",
    "\n",
    "if _SAVE: \n",
    "    save_fpath = CACHE_DPATH / \"teachers.csv\"\n",
    "    teachers_df.to_csv(save_fpath)"
   ]
  },
  {
   "attachments": {},
   "cell_type": "markdown",
   "metadata": {},
   "source": [
    "## Subjects Info"
   ]
  },
  {
   "cell_type": "code",
   "execution_count": null,
   "metadata": {},
   "outputs": [],
   "source": [
    "SUBJECTS = [\n",
    "  [\"Привод\", \"practice\", 2.0, [9491, 9492, 9493, 9494], [\"Дикун Ирина Александровна professor\"]],\n",
    "  [\"Привод\", \"lecture\", 1.0, [9491, 9492, 9493, 9494], [\"Козлова Людмила Петровна professor\"]],\n",
    "  [\"Привод\", \"lab\", 4.0, [9491, 9492, 9493, 9494], [\"Козлова Людмила Петровна professor\", \"Королев Виталий Вячеславович professor\"]],\n",
    "  [\"ТССУ\", \"lecture\", 1.0, [9491, 9492, 9493, 9494], [\"Кузнецов Владимир Евгеньевич professor\"]],\n",
    "  [\"ТССУ\", \"practice\", 2.0, [9491, 9492, 9493, 9494], [\"Кузнецов Владимир Евгеньевич professor\"]],\n",
    "  [\"ТССУ\", \"practice\", 2.0, [9491, 9492, 9493, 9494], [\"Кузнецов Владимир Евгеньевич professor\"]],\n",
    "  [\"ТССУ\", \"lab\", 4.0, [9491, 9492, 9493, 9494], [\"Якупов Олег Эльдусович assistant\"]],\n",
    "  [\"БЖД\", \"lecture\", 1.0, [9491, 9492, 9493, 9494], [\"Буканин Владимир Анатольевич professor\"]],\n",
    "  [\"БЖД\", \"practice\", 4.0, [9491, 9492, 9493, 9494], [\n",
    "        \"Буканин Владимир Анатольевич professor\",\n",
    "        \"Демидович Ольга Васильевна professor\",\n",
    "        \"Трусов Александр Олегович professor\"\n",
    "      ]\n",
    "  ],\n",
    "  [\"БЖД\", \"lab\", 4.0, [9491, 9492, 9493, 9494], [\n",
    "        \"Овдиенко Евгений Николаевич assistant\",\n",
    "        \"Трусов Александр Александрович assistant\",\n",
    "        \"Маловский Андрей Иванович assistant\"\n",
    "      ]\n",
    "  ],\n",
    "  [\"АПМСЭЭС\", \"lacture\", 1.0, [9493], [\"Леута Алексей Александрович professor\"]],\n",
    "  [\"АПМСЭЭС\", \"lab\", 1.0, [9493], [\"Леута Алексей Александрович professor\"]],\n",
    "  [\"МССУ (ДВС6)\", \"lecture\", 1.0, [9494], [\"Мирошников Александр Николаевич professor\"]],\n",
    "  [\"МССУ (ДВС6)\", \"lab\", 0.5, [9494], [\"Мирошников Александр Николаевич professor\"]],\n",
    "  [\"МССУ (ДВС6)\", \"practice\", 0.5, [9494], [\"Мирошников Александр Николаевич professor\"]],\n",
    "  [\"ТОУ\", \"lecture\", 1.0, [9491, 9492, 9493, 9494], [\"Амбросовская Елена Борисовна professor\"]],\n",
    "  [\"ТОУ\", \"lab\", 4.0, [9491, 9492, 9493, 9494], [\"Амбросовская Елена Борисовна professor\"]],\n",
    "  [\"СЭЭС\", \"lecture\", 1.0, [9493], [\"Лукичев Андрей Николаевич professor\"]],\n",
    "  [\"СЭЭС\", \"practice\", 0.5, [9493], [\"Лукичев Андрей Николаевич professor\"]],\n",
    "  [\"СЭЭС\", \"lab\", 0.5, [9493], [\"Михайлов Данил Павлович assistant\"]],\n",
    "  [\"МПТвМиРТ\", \"lecture\", 1.0, [9491, 9492], [\"Михайлов Данил Павлович assistant\"]],\n",
    "  [\"МПТвМиРТ\", \"lab\", 1.0, [9491, 9492], [\"Михайлов Данил Павлович assistant\"]],\n",
    "  [\"МПТвМиРТ\", \"practice\", 1.0, [9491, 9492], [\"Михайлов Данил Павлович assistant\"]],\n",
    "  [\"ФиРИСУК (ДВС8)\", \"lecture\", 1.0, [9494], [\"Копычев Михаил Михайлович professor\"]],\n",
    "  [\"ФиРИСУК (ДВС8)\", \"practice\", 0.5, [9494], [\"Копычев Михаил Михайлович professor\", \"Игнатович Юлия Васильевна assistant\"]],\n",
    "  [\"ФиРИСУК (ДВС8)\", \"lab\", 0.5, [9494], [\"Игнатович Юлия Васильевна assistant\"]],\n",
    "  [\"СУЭЭУК\", \"practice\", 0.5, [9494], [\"Скороходов Дмитрий Алексеевич professor\"]],\n",
    "  [\"СУЭЭУК\", \"lab\", 0.5, [9494], [\"Скороходов Дмитрий Алексеевич professor\"]],\n",
    "  [\"СУЭЭУК\", \"lecture\", 1.0, [9494], [\"Скороходов Дмитрий Алексеевич professor\"]],\n",
    "  [\"ПЛКиПС\", \"lecture\", 1.0, [9491,9492,9494], [\"Вейнмейстер Андрей Викторович professor\"]],\n",
    "  [\"ПЛКиПС\", \"lab\", 1.5, [9491, 9492, 9494], [\"Вейнмейстер Андрей Викторович professor\", \"Филатова Екатерина Сергеевна professor\"]],\n",
    "  [\"ПЛКиПС\", \"practice\", 1.5, [9491, 9492, 9494], [\"Филатова Екатерина Сергеевна professor\", \"Богданова Светлана Михайловна assistant\"]],\n",
    "  [\"ТЕХНИЧЕСКОЕ ЗРЕНИЕ\", \"lecture\", 1.0, [9491, 9492], [\"Гречухин Михаил Николаевич professor\"]],\n",
    "  [\"ТЕХНИЧЕСКОЕ ЗРЕНИЕ\", \"lab\", 1.0, [9491, 9492], [\"Федоркова Анастасия Олеговна assistant\"]],\n",
    "  [\"ТЕХНИЧЕСКОЕ ЗРЕНИЕ\", \"practice\", 1.0, [9491, 9492], [\"Федоркова Анастасия Олеговна assistant\"]]\n",
    "]\n",
    "\n",
    "subjects_df = pd.DataFrame(\n",
    "    SUBJECTS, columns=[\"subject_name\", \"subject_type\", \"weekly_hours\", \"groups\", \"teachers\"]\n",
    ")\n",
    "subjects_df.head()"
   ]
  },
  {
   "attachments": {},
   "cell_type": "markdown",
   "metadata": {},
   "source": [
    "### One-Hot-Encoding"
   ]
  },
  {
   "cell_type": "code",
   "execution_count": null,
   "metadata": {},
   "outputs": [],
   "source": [
    "# NOTE: list of groups binarization \n",
    "mlb_binarizer = MultiLabelBinarizer(sparse_output=False)\n",
    "\n",
    "binarized_groups = pd.DataFrame(\n",
    "    mlb_binarizer.fit_transform(subjects_df[\"groups\"]), columns=mlb_binarizer.classes_\n",
    ")\n",
    "\n",
    "subjects_df = pd.concat((subjects_df, binarized_groups), axis=1)\n"
   ]
  },
  {
   "cell_type": "code",
   "execution_count": null,
   "metadata": {},
   "outputs": [],
   "source": [
    "# NOTE: list of groups binarization \n",
    "mlb_binarizer = MultiLabelBinarizer(sparse_output=False)\n",
    "\n",
    "binarized_teachers = pd.DataFrame(\n",
    "    mlb_binarizer.fit_transform(subjects_df[\"teachers\"]), columns=mlb_binarizer.classes_\n",
    ")\n",
    "\n",
    "subjects_df = pd.concat((subjects_df, binarized_teachers), axis=1)\n"
   ]
  },
  {
   "cell_type": "code",
   "execution_count": null,
   "metadata": {},
   "outputs": [],
   "source": [
    "_SAVE = True \n",
    "\n",
    "if _SAVE: \n",
    "    save_fpath = CACHE_DPATH / \"subjects.csv\"\n",
    "    subjects_df.to_csv(save_fpath)"
   ]
  },
  {
   "attachments": {},
   "cell_type": "markdown",
   "metadata": {},
   "source": [
    "## Rooms Info"
   ]
  },
  {
   "cell_type": "code",
   "execution_count": null,
   "metadata": {},
   "outputs": [],
   "source": [
    "ROOM_INFO = {\n",
    "    \"room\": [\n",
    "        \"4302\",\n",
    "        \"1229\",\n",
    "        \"D103\",\n",
    "        \"5230\",\n",
    "        \"2403\",\n",
    "        \"2404\",\n",
    "        \"8103-1\",\n",
    "        \"5143\",\n",
    "        \"5141\",\n",
    "        \"5135\",\n",
    "        \"5134\",\n",
    "        \"5221\",\n",
    "        \"8101\",\n",
    "        \"8112\",\n",
    "        \"8217\",\n",
    "        \"2322\",\n",
    "        \"8102\",\n",
    "        \"1158\",\n",
    "        \"8204\",\n",
    "        \"8203-2\",\n",
    "        \"8203-1\"\n",
    "    ],\n",
    "    \"type\":[\n",
    "        \"practice\",\n",
    "        \"lecture\",\n",
    "        \"lab\",\n",
    "        \"lecture\",\n",
    "        \"practice\",\n",
    "        \"practice\",\n",
    "        \"lab\",\n",
    "        \"lecture\",\n",
    "        \"practice\",\n",
    "        \"lab\",\n",
    "        \"practice\",\n",
    "        \"lecture\",\n",
    "        \"lab\",\n",
    "        \"mixed\",\n",
    "        \"lab\",\n",
    "        \"lecture\",\n",
    "        \"mixed\",\n",
    "        \"lecture\",\n",
    "        \"mixed\",\n",
    "        \"practice\",\n",
    "        \"mixed\"]\n",
    "}\n",
    "\n",
    "room_df = pd.DataFrame.from_dict(ROOM_INFO)\n",
    "room_df.head()"
   ]
  },
  {
   "cell_type": "code",
   "execution_count": null,
   "metadata": {},
   "outputs": [],
   "source": [
    "_SAVE = True \n",
    "\n",
    "if _SAVE: \n",
    "    save_fpath = CACHE_DPATH / \"rooms.csv\"\n",
    "    room_df.to_csv(save_fpath)"
   ]
  }
 ],
 "metadata": {
  "kernelspec": {
   "display_name": "Python 3.8.10 ('.venv': poetry)",
   "language": "python",
   "name": "python3"
  },
  "language_info": {
   "codemirror_mode": {
    "name": "ipython",
    "version": 3
   },
   "file_extension": ".py",
   "mimetype": "text/x-python",
   "name": "python",
   "nbconvert_exporter": "python",
   "pygments_lexer": "ipython3",
   "version": "3.10.6"
  },
  "vscode": {
   "interpreter": {
    "hash": "9ef2a2255f1757d81d8623a586b9225cdbf78da12956b73ed643aab6e86aecd1"
   }
  }
 },
 "nbformat": 4,
 "nbformat_minor": 2
}
